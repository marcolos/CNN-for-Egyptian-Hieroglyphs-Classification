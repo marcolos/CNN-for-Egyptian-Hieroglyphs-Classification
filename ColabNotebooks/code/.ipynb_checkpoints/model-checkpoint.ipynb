{
 "cells": [
  {
   "cell_type": "code",
   "execution_count": null,
   "metadata": {
    "id": "py84LMthB095"
   },
   "outputs": [],
   "source": [
    "# TensorFlow and tf.keras\n",
    "import tensorflow as tf\n",
    "from tensorflow import keras \n",
    "from keras.utils import to_categorical\n",
    "from keras.models import Sequential, Model\n",
    "from keras.layers import Input, Dense, Conv2D, MaxPool2D , Flatten, MaxPooling2D, BatchNormalization, Activation\n",
    "from keras.utils import plot_model\n",
    "from keras.optimizers import SGD\n",
    "from keras.callbacks import ModelCheckpoint\n",
    "from keras.preprocessing.image import ImageDataGenerator"
   ]
  },
  {
   "cell_type": "code",
   "execution_count": null,
   "metadata": {
    "id": "Y2A-ebrIFF-4"
   },
   "outputs": [],
   "source": [
    "def get_dense_model(shape, summary = False):\n",
    "    model = keras.Sequential([\n",
    "    keras.layers.Flatten(input_shape=shape),\n",
    "    keras.layers.Dense(512, activation='relu'), \n",
    "    keras.layers.Dense(256, activation='relu'),\n",
    "    keras.layers.Dense(128, activation='relu'),\n",
    "    keras.layers.Dense(n_classes)])\n",
    "\n",
    "    if summary == True:\n",
    "        model.summary() \n",
    "\n",
    "    # Compile the model\n",
    "    model.compile(optimizer='adam',\n",
    "                  loss=tf.keras.losses.SparseCategoricalCrossentropy(from_logits=True),\n",
    "                  metrics=['accuracy'])\n",
    "    return model"
   ]
  },
  {
   "cell_type": "code",
   "execution_count": null,
   "metadata": {
    "id": "vVIX2ejvFJY-"
   },
   "outputs": [],
   "source": [
    "def get_CNN_model(shape, summary = False):\n",
    "    model = Sequential()\n",
    "    model.add(keras.Input(shape))\n",
    "    model.add(Conv2D(32, (3, 3), activation='relu', kernel_initializer='he_uniform'))\n",
    "    model.add(MaxPooling2D((2, 2)))\n",
    "    model.add(Conv2D(64, (3, 3), activation='relu', kernel_initializer='he_uniform'))\n",
    "    model.add(Conv2D(64, (3, 3), activation='relu', kernel_initializer='he_uniform'))\n",
    "    model.add(MaxPooling2D((2, 2)))\n",
    "    model.add(Flatten())\n",
    "    model.add(Dense(100, activation='relu', kernel_initializer='he_uniform'))\n",
    "    model.add(Dense(n_classes, activation='softmax')) \n",
    "    \n",
    "    if summary == True:\n",
    "        model.summary() \n",
    "        \n",
    "    # compile model\n",
    "    model.compile(optimizer=SGD(lr=0.01, momentum=0.9), \n",
    "                  loss='categorical_crossentropy', \n",
    "                  metrics=['accuracy'])\n",
    "    return model"
   ]
  },
  {
   "cell_type": "code",
   "execution_count": null,
   "metadata": {
    "id": "3QJrYv1bFTkT"
   },
   "outputs": [],
   "source": [
    "def get_VGG16_model(shape):\n",
    "    model = tf.keras.applications.VGG16(include_top=True, weights=None, \n",
    "                                       input_shape=shape, \n",
    "                                       classes=n_classes, classifier_activation=\"softmax\") \n",
    "\n",
    "    return model"
   ]
  },
  {
   "cell_type": "code",
   "execution_count": null,
   "metadata": {
    "id": "5-aDCcYUFVsN"
   },
   "outputs": [],
   "source": [
    "def get_resnet50_model(shape):\n",
    "    model = tf.keras.applications.ResNet50(include_top=True, weights=None, \n",
    "                                       input_shape=shape, \n",
    "                                       classes=n_classes) \n",
    "    return model"
   ]
  },
  {
   "cell_type": "code",
   "execution_count": null,
   "metadata": {
    "id": "1yyCq3tNFaxr"
   },
   "outputs": [],
   "source": [
    "def get_resnet152V2_model(shape):\n",
    "    model = tf.keras.applications.ResNet152V2(include_top=True, weights=None, \n",
    "                                       input_shape=shape, \n",
    "                                       classes=n_classes) \n",
    "    return model\n"
   ]
  },
  {
   "cell_type": "code",
   "execution_count": null,
   "metadata": {
    "id": "g8N79BATFcuU"
   },
   "outputs": [],
   "source": [
    "def get_Xception_model(shape):\n",
    "    model = tf.keras.applications.Xception(include_top=True, weights=None, \n",
    "                                       input_shape=shape, \n",
    "                                       classes=n_classes, classifier_activation=\"softmax\") \n",
    "    return model"
   ]
  },
  {
   "cell_type": "code",
   "execution_count": null,
   "metadata": {
    "id": "mlxqP_e-B7Sm"
   },
   "outputs": [],
   "source": [
    "def get_InceptionV3_model(shape):\n",
    "    model = tf.keras.applications.InceptionV3(include_top=True, weights=None, \n",
    "                                       input_shape=shape, \n",
    "                                       classes=n_classes, classifier_activation=\"softmax\") \n",
    "    return model"
   ]
  },
  {
   "cell_type": "code",
   "execution_count": null,
   "metadata": {
    "id": "Eo4hdqPs766A"
   },
   "outputs": [],
   "source": [
    "def my_model(shape):\n",
    "    inputs = Input(shape=shape)\n",
    "    \n",
    "    x = Conv2D(filters=64, kernel_size=(3,3), padding='same')(inputs)\n",
    "    x = Activation('relu')(x)\n",
    "    x = Conv2D(filters=64, kernel_size=(3,3), padding='same')(x)\n",
    "    x = Activation('relu')(x)\n",
    "    x = MaxPool2D(pool_size=(2,2),strides=(2,2))(x)\n",
    "\n",
    "    x = Conv2D(filters=128, kernel_size=(3,3), padding='same')(x)\n",
    "    x = Activation('relu')(x)\n",
    "    x = Conv2D(filters=128, kernel_size=(3,3), padding='same')(x)\n",
    "    x = Activation('relu')(x)\n",
    "    x = MaxPool2D(pool_size=(2,2),strides=(2,2))(x)\n",
    "\n",
    "    x = Conv2D(filters=256, kernel_size=(3,3), padding='same')(x)\n",
    "    x = Activation('relu')(x)\n",
    "    x = Conv2D(filters=256, kernel_size=(3,3), padding='same')(x)\n",
    "    x = Activation('relu')(x)\n",
    "    x = MaxPool2D(pool_size=(2,2),strides=(2,2))(x)\n",
    "    x = MaxPool2D(pool_size=(2,2),strides=(2,2))(x)\n",
    "    x = MaxPool2D(pool_size=(2,2),strides=(2,2))(x)\n",
    "\n",
    "    x = Flatten()(x)\n",
    "    x = Dense(units=4096)(x)\n",
    "    x = Activation('relu')(x)\n",
    "    x = Dense(units=4096)(x)\n",
    "    x = Activation('relu')(x)\n",
    "    outputs = Dense(n_classes)(x)\n",
    "\n",
    "    model = Model(inputs, outputs)\n",
    "    return model"
   ]
  },
  {
   "cell_type": "code",
   "execution_count": null,
   "metadata": {
    "id": "g_OKlWJuug6O"
   },
   "outputs": [],
   "source": [
    "def boa_model(shape):\n",
    "    inputs = Input(shape=shape) #if the image is 3, it is color image. If the image is 1, it is gray color, 201807082123tcw\n",
    "    \n",
    "    # 1st layer, Conv+relu\n",
    "    x = Conv2D(filters=64, kernel_size=(3,3), strides=(1,1), padding='same')(inputs)\n",
    "    x = BatchNormalization(axis=-1, epsilon=1e-3)(x)\n",
    "    x = Activation('relu')(x)\n",
    "    \n",
    "    # 15 layers, Conv+BN+relu\n",
    "    for i in range(5):\n",
    "        x = Conv2D(filters=64, kernel_size=(3,3), strides=(1,1), padding='same')(x)\n",
    "        x = BatchNormalization(axis=-1, epsilon=1e-3)(x)\n",
    "        x = Activation('relu')(x)    \n",
    "    x = MaxPooling2D(pool_size=(2, 2), strides=(1, 1), padding='same')(x)\n",
    "    \n",
    "    for i in range(5):\n",
    "        x = Conv2D(filters=64, kernel_size=(3,3), strides=(1,1), padding='same')(x)\n",
    "        x = BatchNormalization(axis=-1, epsilon=1e-3)(x)\n",
    "        x = Activation('relu')(x)    \n",
    "    x = MaxPooling2D(pool_size=(2, 2), strides=(1, 1), padding='same')(x)\n",
    "    \n",
    "    # last layer, Conv \n",
    "    for i in range(5):\n",
    "        x = Conv2D(filters=64, kernel_size=(3,3), strides=(1,1), padding='same')(x)\n",
    "        x = BatchNormalization(axis=-1, epsilon=1e-3)(x)\n",
    "        x = Activation('relu')(x) \n",
    "    #x = Conv2D(filters=1, kernel_size=(3,3), strides=(1,1), padding='same')(x) #gray is 1 color is 3\n",
    "    x = keras.layers.GlobalAveragePooling2D()(x)\n",
    "    \n",
    "    # A Dense classifier with a n_classes unit\n",
    "    outputs = Dense(n_classes)(x)\n",
    "    model = Model(inputs, outputs)\n",
    "    return model\n",
    "    \n",
    "    \n",
    "    #x = Subtract()([inpt, x])   # input - noise\n",
    "    #y = Conv2D(filters=64, kernel_size=(3,3), strides=(1,1), padding='same')(inpt)\n",
    "    #y = BatchNormalization(axis=-1, epsilon=1e-3)(y)\n",
    "\n",
    "    #y = Activation('relu')(y)\n",
    "\n",
    "    # 15 layers, Conv+BN+relu\n",
    "    #for i in range(7):\n",
    "    #    y = Conv2D(filters=64, kernel_size=(3,3), strides=(1,1),dilation_rate=(2,2), padding='same')(y)\n",
    "    #    y = Activation('relu')(y)\n",
    "   \n",
    "    #y = Conv2D(filters=64, kernel_size=(3,3), strides=(1,1), padding='same')(y)\n",
    "\n",
    "    #y = BatchNormalization(axis=-1, epsilon=1e-3)(y)\n",
    "\n",
    "    #y = Activation('relu')(y)\n",
    " \n",
    "    #for i in range(6):\n",
    "    #    y = Conv2D(filters=64, kernel_size=(3,3), strides=(1,1),dilation_rate=(2,2), padding='same')(y)\n",
    "\n",
    "    #    y = Activation('relu')(y)\n",
    "\n",
    "    #y = Conv2D(filters=64, kernel_size=(3,3), strides=(1,1), padding='same')(y)\n",
    "\n",
    "    #y = BatchNormalization(axis=-1, epsilon=1e-3)(y)\n",
    "\n",
    "    #y = Activation('relu')(y)\n",
    "    \n",
    "    #y = Conv2D(filters=1, kernel_size=(3,3), strides=(1,1), padding='same')(y)#gray is 1 color is 3\n",
    "    #y = Subtract()([inpt, y])   # input - noise\n",
    "    #o = concatenate([x,y],axis=-1)\n",
    "    #z = Conv2D(filters=1, kernel_size=(3,3), strides=(1,1), padding='same')(o)#gray is 1 color is 3\n",
    "    #z=  Subtract()([inpt, z])\n",
    "    \n",
    "    #model = Model(inputs=inpt, outputs=o)\n",
    "    #model.summary()"
   ]
  }
 ],
 "metadata": {
  "colab": {
   "collapsed_sections": [],
   "name": "model.ipynb",
   "provenance": []
  },
  "kernelspec": {
   "display_name": "Python 3",
   "language": "python",
   "name": "python3"
  },
  "language_info": {
   "codemirror_mode": {
    "name": "ipython",
    "version": 3
   },
   "file_extension": ".py",
   "mimetype": "text/x-python",
   "name": "python",
   "nbconvert_exporter": "python",
   "pygments_lexer": "ipython3",
   "version": "3.6.12"
  }
 },
 "nbformat": 4,
 "nbformat_minor": 1
}
